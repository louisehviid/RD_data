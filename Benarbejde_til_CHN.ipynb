{
  "nbformat": 4,
  "nbformat_minor": 0,
  "metadata": {
    "colab": {
      "provenance": [],
      "authorship_tag": "ABX9TyOOIBVPM9CSJZOVGCkAOJad",
      "include_colab_link": true
    },
    "kernelspec": {
      "name": "python3",
      "display_name": "Python 3"
    },
    "language_info": {
      "name": "python"
    }
  },
  "cells": [
    {
      "cell_type": "markdown",
      "metadata": {
        "id": "view-in-github",
        "colab_type": "text"
      },
      "source": [
        "<a href=\"https://colab.research.google.com/github/louisehviid/RD_data/blob/main/Benarbejde_til_CHN.ipynb\" target=\"_parent\"><img src=\"https://colab.research.google.com/assets/colab-badge.svg\" alt=\"Open In Colab\"/></a>"
      ]
    },
    {
      "cell_type": "code",
      "execution_count": 2,
      "metadata": {
        "id": "d3y0i7v5vhvg"
      },
      "outputs": [],
      "source": [
        "#Import libraries we need\n",
        "import pandas as pd\n",
        "import matplotlib.pyplot as plt"
      ]
    },
    {
      "cell_type": "code",
      "source": [
        "#Read data from the cloud\n",
        "data1 = pd.read_excel('https://raw.githubusercontent.com/louisehviid/RD_data/main/Data/RD_DK.xlsx')\n"
      ],
      "metadata": {
        "id": "w88hVxmmvqJW"
      },
      "execution_count": 3,
      "outputs": []
    },
    {
      "cell_type": "code",
      "source": [
        "#get an overview\n",
        "data1.head()"
      ],
      "metadata": {
        "colab": {
          "base_uri": "https://localhost:8080/",
          "height": 206
        },
        "id": "Qx-OYTeWzNda",
        "outputId": "83a5379c-f755-4c4d-f4fb-f7fa70358d33"
      },
      "execution_count": 4,
      "outputs": [
        {
          "output_type": "execute_result",
          "data": {
            "text/plain": [
              "   Year  Reg_ialt Region_Hovedstaden Region_Sjælland Region_Syddanmark  \\\n",
              "0  2008     34080              23756            1354              3665   \n",
              "1  2009     36714              24848            1241              3982   \n",
              "2  2010     35413              24148            1578              3407   \n",
              "3  2011     36286              24458            1536              3434   \n",
              "4  2012     37045              25036            1447              3746   \n",
              "\n",
              "  Region_Midtjylland Region_Nordjylland  \n",
              "0               4322                982  \n",
              "1               5935                708  \n",
              "2               5617                663  \n",
              "3               6133                726  \n",
              "4               6018                797  "
            ],
            "text/html": [
              "\n",
              "  <div id=\"df-6ed179d2-0816-4a0e-a31b-f90dc999d55a\">\n",
              "    <div class=\"colab-df-container\">\n",
              "      <div>\n",
              "<style scoped>\n",
              "    .dataframe tbody tr th:only-of-type {\n",
              "        vertical-align: middle;\n",
              "    }\n",
              "\n",
              "    .dataframe tbody tr th {\n",
              "        vertical-align: top;\n",
              "    }\n",
              "\n",
              "    .dataframe thead th {\n",
              "        text-align: right;\n",
              "    }\n",
              "</style>\n",
              "<table border=\"1\" class=\"dataframe\">\n",
              "  <thead>\n",
              "    <tr style=\"text-align: right;\">\n",
              "      <th></th>\n",
              "      <th>Year</th>\n",
              "      <th>Reg_ialt</th>\n",
              "      <th>Region_Hovedstaden</th>\n",
              "      <th>Region_Sjælland</th>\n",
              "      <th>Region_Syddanmark</th>\n",
              "      <th>Region_Midtjylland</th>\n",
              "      <th>Region_Nordjylland</th>\n",
              "    </tr>\n",
              "  </thead>\n",
              "  <tbody>\n",
              "    <tr>\n",
              "      <th>0</th>\n",
              "      <td>2008</td>\n",
              "      <td>34080</td>\n",
              "      <td>23756</td>\n",
              "      <td>1354</td>\n",
              "      <td>3665</td>\n",
              "      <td>4322</td>\n",
              "      <td>982</td>\n",
              "    </tr>\n",
              "    <tr>\n",
              "      <th>1</th>\n",
              "      <td>2009</td>\n",
              "      <td>36714</td>\n",
              "      <td>24848</td>\n",
              "      <td>1241</td>\n",
              "      <td>3982</td>\n",
              "      <td>5935</td>\n",
              "      <td>708</td>\n",
              "    </tr>\n",
              "    <tr>\n",
              "      <th>2</th>\n",
              "      <td>2010</td>\n",
              "      <td>35413</td>\n",
              "      <td>24148</td>\n",
              "      <td>1578</td>\n",
              "      <td>3407</td>\n",
              "      <td>5617</td>\n",
              "      <td>663</td>\n",
              "    </tr>\n",
              "    <tr>\n",
              "      <th>3</th>\n",
              "      <td>2011</td>\n",
              "      <td>36286</td>\n",
              "      <td>24458</td>\n",
              "      <td>1536</td>\n",
              "      <td>3434</td>\n",
              "      <td>6133</td>\n",
              "      <td>726</td>\n",
              "    </tr>\n",
              "    <tr>\n",
              "      <th>4</th>\n",
              "      <td>2012</td>\n",
              "      <td>37045</td>\n",
              "      <td>25036</td>\n",
              "      <td>1447</td>\n",
              "      <td>3746</td>\n",
              "      <td>6018</td>\n",
              "      <td>797</td>\n",
              "    </tr>\n",
              "  </tbody>\n",
              "</table>\n",
              "</div>\n",
              "      <button class=\"colab-df-convert\" onclick=\"convertToInteractive('df-6ed179d2-0816-4a0e-a31b-f90dc999d55a')\"\n",
              "              title=\"Convert this dataframe to an interactive table.\"\n",
              "              style=\"display:none;\">\n",
              "        \n",
              "  <svg xmlns=\"http://www.w3.org/2000/svg\" height=\"24px\"viewBox=\"0 0 24 24\"\n",
              "       width=\"24px\">\n",
              "    <path d=\"M0 0h24v24H0V0z\" fill=\"none\"/>\n",
              "    <path d=\"M18.56 5.44l.94 2.06.94-2.06 2.06-.94-2.06-.94-.94-2.06-.94 2.06-2.06.94zm-11 1L8.5 8.5l.94-2.06 2.06-.94-2.06-.94L8.5 2.5l-.94 2.06-2.06.94zm10 10l.94 2.06.94-2.06 2.06-.94-2.06-.94-.94-2.06-.94 2.06-2.06.94z\"/><path d=\"M17.41 7.96l-1.37-1.37c-.4-.4-.92-.59-1.43-.59-.52 0-1.04.2-1.43.59L10.3 9.45l-7.72 7.72c-.78.78-.78 2.05 0 2.83L4 21.41c.39.39.9.59 1.41.59.51 0 1.02-.2 1.41-.59l7.78-7.78 2.81-2.81c.8-.78.8-2.07 0-2.86zM5.41 20L4 18.59l7.72-7.72 1.47 1.35L5.41 20z\"/>\n",
              "  </svg>\n",
              "      </button>\n",
              "      \n",
              "  <style>\n",
              "    .colab-df-container {\n",
              "      display:flex;\n",
              "      flex-wrap:wrap;\n",
              "      gap: 12px;\n",
              "    }\n",
              "\n",
              "    .colab-df-convert {\n",
              "      background-color: #E8F0FE;\n",
              "      border: none;\n",
              "      border-radius: 50%;\n",
              "      cursor: pointer;\n",
              "      display: none;\n",
              "      fill: #1967D2;\n",
              "      height: 32px;\n",
              "      padding: 0 0 0 0;\n",
              "      width: 32px;\n",
              "    }\n",
              "\n",
              "    .colab-df-convert:hover {\n",
              "      background-color: #E2EBFA;\n",
              "      box-shadow: 0px 1px 2px rgba(60, 64, 67, 0.3), 0px 1px 3px 1px rgba(60, 64, 67, 0.15);\n",
              "      fill: #174EA6;\n",
              "    }\n",
              "\n",
              "    [theme=dark] .colab-df-convert {\n",
              "      background-color: #3B4455;\n",
              "      fill: #D2E3FC;\n",
              "    }\n",
              "\n",
              "    [theme=dark] .colab-df-convert:hover {\n",
              "      background-color: #434B5C;\n",
              "      box-shadow: 0px 1px 3px 1px rgba(0, 0, 0, 0.15);\n",
              "      filter: drop-shadow(0px 1px 2px rgba(0, 0, 0, 0.3));\n",
              "      fill: #FFFFFF;\n",
              "    }\n",
              "  </style>\n",
              "\n",
              "      <script>\n",
              "        const buttonEl =\n",
              "          document.querySelector('#df-6ed179d2-0816-4a0e-a31b-f90dc999d55a button.colab-df-convert');\n",
              "        buttonEl.style.display =\n",
              "          google.colab.kernel.accessAllowed ? 'block' : 'none';\n",
              "\n",
              "        async function convertToInteractive(key) {\n",
              "          const element = document.querySelector('#df-6ed179d2-0816-4a0e-a31b-f90dc999d55a');\n",
              "          const dataTable =\n",
              "            await google.colab.kernel.invokeFunction('convertToInteractive',\n",
              "                                                     [key], {});\n",
              "          if (!dataTable) return;\n",
              "\n",
              "          const docLinkHtml = 'Like what you see? Visit the ' +\n",
              "            '<a target=\"_blank\" href=https://colab.research.google.com/notebooks/data_table.ipynb>data table notebook</a>'\n",
              "            + ' to learn more about interactive tables.';\n",
              "          element.innerHTML = '';\n",
              "          dataTable['output_type'] = 'display_data';\n",
              "          await google.colab.output.renderOutput(dataTable, element);\n",
              "          const docLink = document.createElement('div');\n",
              "          docLink.innerHTML = docLinkHtml;\n",
              "          element.appendChild(docLink);\n",
              "        }\n",
              "      </script>\n",
              "    </div>\n",
              "  </div>\n",
              "  "
            ]
          },
          "metadata": {},
          "execution_count": 4
        }
      ]
    },
    {
      "cell_type": "markdown",
      "source": [
        "Hvad procentdel af investering i RD udgør nordjyske virksomheder relative til resten af Danmark (e.g., regioner_i_alt)?"
      ],
      "metadata": {
        "id": "ooeRvyTL0_Bt"
      }
    },
    {
      "cell_type": "code",
      "source": [
        "#nordjylland relative to the rest of the country\n",
        "subset_df = data1[['Reg_ialt', 'Region_Nordjylland', 'Year']]\n",
        "\n"
      ],
      "metadata": {
        "id": "li7l6bSp6FF5"
      },
      "execution_count": null,
      "outputs": []
    },
    {
      "cell_type": "code",
      "source": [
        "#are all variables int64?\n",
        "print(subset_df.dtypes)\n"
      ],
      "metadata": {
        "colab": {
          "base_uri": "https://localhost:8080/"
        },
        "id": "XlmBqiAWbRUV",
        "outputId": "c5c29903-3b54-47d5-ad0c-45739bbaa178"
      },
      "execution_count": null,
      "outputs": [
        {
          "output_type": "stream",
          "name": "stdout",
          "text": [
            "Reg_ialt               int64\n",
            "Region_Nordjylland    object\n",
            "Year                   int64\n",
            "dtype: object\n"
          ]
        }
      ]
    },
    {
      "cell_type": "code",
      "source": [
        "#Transpose variables to int64\n",
        "subset_df.loc['Region_Nordjylland'] = pd.to_numeric(subset_df['Region_Nordjylland'], errors='coerce')\n"
      ],
      "metadata": {
        "id": "2-HBMPNwblak",
        "colab": {
          "base_uri": "https://localhost:8080/"
        },
        "outputId": "28f1bc97-ce56-43ba-b643-61f5d7c05cca"
      },
      "execution_count": null,
      "outputs": [
        {
          "output_type": "stream",
          "name": "stderr",
          "text": [
            "<ipython-input-9-7d9b19e850ed>:2: SettingWithCopyWarning: \n",
            "A value is trying to be set on a copy of a slice from a DataFrame\n",
            "\n",
            "See the caveats in the documentation: https://pandas.pydata.org/pandas-docs/stable/user_guide/indexing.html#returning-a-view-versus-a-copy\n",
            "  subset_df.loc['Region_Nordjylland'] = pd.to_numeric(subset_df['Region_Nordjylland'], errors='coerce')\n"
          ]
        }
      ]
    },
    {
      "cell_type": "code",
      "source": [
        "#check format has changed\n",
        "print(subset_df.dtypes)\n"
      ],
      "metadata": {
        "colab": {
          "base_uri": "https://localhost:8080/"
        },
        "id": "eMfeT2Q7cSme",
        "outputId": "ab1a57e4-2f03-45a1-ec20-791e60f57bb8"
      },
      "execution_count": null,
      "outputs": [
        {
          "output_type": "stream",
          "name": "stdout",
          "text": [
            "Reg_ialt              float64\n",
            "Region_Nordjylland    float64\n",
            "Year                  float64\n",
            "dtype: object\n"
          ]
        }
      ]
    },
    {
      "cell_type": "code",
      "source": [
        "#drop year without any values\n",
        "df = subset_df.dropna(subset=['Region_Nordjylland'])\n",
        "\n",
        "print(df)"
      ],
      "metadata": {
        "colab": {
          "base_uri": "https://localhost:8080/"
        },
        "id": "eIOJsRn9djsm",
        "outputId": "e711e723-44e8-4524-91cd-b2e91ab6cd56"
      },
      "execution_count": null,
      "outputs": [
        {
          "output_type": "stream",
          "name": "stdout",
          "text": [
            "    Reg_ialt  Region_Nordjylland    Year\n",
            "0    34080.0               982.0  2008.0\n",
            "1    36714.0               708.0  2009.0\n",
            "2    35413.0               663.0  2010.0\n",
            "3    36286.0               726.0  2011.0\n",
            "4    37045.0               797.0  2012.0\n",
            "5    36308.0               699.0  2013.0\n",
            "6    36815.0               769.0  2014.0\n",
            "7    39487.0               776.0  2015.0\n",
            "8    42418.0              1244.0  2016.0\n",
            "9    40757.0              1054.0  2017.0\n",
            "11   41571.0               831.0  2019.0\n",
            "12   42494.0               678.0  2020.0\n",
            "13   44602.0              1041.0  2021.0\n"
          ]
        }
      ]
    },
    {
      "cell_type": "code",
      "source": [
        "#Group variables by year\n",
        "grouped_df = df.groupby('Year')"
      ],
      "metadata": {
        "id": "dcl6yAlseoNm"
      },
      "execution_count": null,
      "outputs": []
    },
    {
      "cell_type": "code",
      "source": [
        "#Create new dataframe with percentage of RD in nordjylland\n",
        "percentage_nordjylland = grouped_df['Region_Nordjylland'].sum() / grouped_df['Reg_ialt'].sum() * 100\n",
        "print(percentage_nordjylland)"
      ],
      "metadata": {
        "colab": {
          "base_uri": "https://localhost:8080/"
        },
        "id": "KxvxqN8CfTcV",
        "outputId": "342d780b-035e-4cc8-8dff-7aac25a330ad"
      },
      "execution_count": null,
      "outputs": [
        {
          "output_type": "stream",
          "name": "stdout",
          "text": [
            "Year\n",
            "2008.0    2.881455\n",
            "2009.0    1.928420\n",
            "2010.0    1.872194\n",
            "2011.0    2.000772\n",
            "2012.0    2.151437\n",
            "2013.0    1.925196\n",
            "2014.0    2.088822\n",
            "2015.0    1.965204\n",
            "2016.0    2.932717\n",
            "2017.0    2.586059\n",
            "2019.0    1.998990\n",
            "2020.0    1.595519\n",
            "2021.0    2.333976\n",
            "dtype: float64\n"
          ]
        }
      ]
    },
    {
      "cell_type": "code",
      "source": [
        "bar_width = ['0.7', '0.7', '0.7']\n",
        "plt.plot(x=percentage_nordjylland.index, height=percentage_nordjylland.values)\n",
        "plt.title('Percentage of total RD spent in Nordjylland per year')\n",
        "plt.xlabel('Year')\n",
        "plt.ylabel('Percentage of spending in Nordjylland')\n",
        "plt.show()\n"
      ],
      "metadata": {
        "colab": {
          "base_uri": "https://localhost:8080/",
          "height": 295
        },
        "id": "dMmp5e6kfkgR",
        "outputId": "a1a62ba6-61ac-44ac-f4f1-275cacbd2d85"
      },
      "execution_count": null,
      "outputs": [
        {
          "output_type": "display_data",
          "data": {
            "text/plain": [
              "<Figure size 432x288 with 1 Axes>"
            ],
            "image/png": "[encoded data removed]"
          },
          "metadata": {
            "needs_background": "light"
          }
        }
      ]
    },
    {
      "cell_type": "code",
      "source": [
        "#Plot nordjylland relative to other regions across the country\n",
        "subset_df2 = data1.drop('Reg_ialt', axis=1)\n",
        "print(subset_df2)"
      ],
      "metadata": {
        "colab": {
          "base_uri": "https://localhost:8080/"
        },
        "id": "SUnXkRJrhzen",
        "outputId": "db552e1f-93e9-4a0e-e02c-973db1d05915"
      },
      "execution_count": 5,
      "outputs": [
        {
          "output_type": "stream",
          "name": "stdout",
          "text": [
            "    Year Region_Hovedstaden Region_Sjælland Region_Syddanmark  \\\n",
            "0   2008              23756            1354              3665   \n",
            "1   2009              24848            1241              3982   \n",
            "2   2010              24148            1578              3407   \n",
            "3   2011              24458            1536              3434   \n",
            "4   2012              25036            1447              3746   \n",
            "5   2013              24398            1266              4118   \n",
            "6   2014              25010             968              4260   \n",
            "7   2015              27020             972              4790   \n",
            "8   2016              29095            1073              4601   \n",
            "9   2017              27865            1615              3416   \n",
            "10  2018                 ..              ..                ..   \n",
            "11  2019              28270            1539              4210   \n",
            "12  2020              29304            1481              4475   \n",
            "13  2021              30621            1634              4814   \n",
            "\n",
            "   Region_Midtjylland Region_Nordjylland  \n",
            "0                4322                982  \n",
            "1                5935                708  \n",
            "2                5617                663  \n",
            "3                6133                726  \n",
            "4                6018                797  \n",
            "5                5827                699  \n",
            "6                5808                769  \n",
            "7                5929                776  \n",
            "8                6404               1244  \n",
            "9                6807               1054  \n",
            "10                 ..                 ..  \n",
            "11               6721                831  \n",
            "12               6556                678  \n",
            "13               6491               1041  \n"
          ]
        }
      ]
    },
    {
      "cell_type": "code",
      "source": [
        "#Removing year 2018 w/o values \n",
        "\n",
        "df = subset_df2.drop(subset_df2[subset_df2['Year'] == 2018].index).copy()\n",
        "\n",
        "print(df)\n",
        "\n",
        "\n",
        "\n"
      ],
      "metadata": {
        "colab": {
          "base_uri": "https://localhost:8080/"
        },
        "id": "60boY20yljup",
        "outputId": "ab156394-d4be-4d59-8374-9110f25ea138"
      },
      "execution_count": 6,
      "outputs": [
        {
          "output_type": "stream",
          "name": "stdout",
          "text": [
            "    Year Region_Hovedstaden Region_Sjælland Region_Syddanmark  \\\n",
            "0   2008              23756            1354              3665   \n",
            "1   2009              24848            1241              3982   \n",
            "2   2010              24148            1578              3407   \n",
            "3   2011              24458            1536              3434   \n",
            "4   2012              25036            1447              3746   \n",
            "5   2013              24398            1266              4118   \n",
            "6   2014              25010             968              4260   \n",
            "7   2015              27020             972              4790   \n",
            "8   2016              29095            1073              4601   \n",
            "9   2017              27865            1615              3416   \n",
            "11  2019              28270            1539              4210   \n",
            "12  2020              29304            1481              4475   \n",
            "13  2021              30621            1634              4814   \n",
            "\n",
            "   Region_Midtjylland Region_Nordjylland  \n",
            "0                4322                982  \n",
            "1                5935                708  \n",
            "2                5617                663  \n",
            "3                6133                726  \n",
            "4                6018                797  \n",
            "5                5827                699  \n",
            "6                5808                769  \n",
            "7                5929                776  \n",
            "8                6404               1244  \n",
            "9                6807               1054  \n",
            "11               6721                831  \n",
            "12               6556                678  \n",
            "13               6491               1041  \n"
          ]
        }
      ]
    },
    {
      "cell_type": "code",
      "source": [
        "#Transpose variables to int64\n",
        "# Convert all columns to int64\n",
        "df = df.astype('int64', errors='ignore')\n"
      ],
      "metadata": {
        "id": "cGSFa_nFi0Ln"
      },
      "execution_count": 7,
      "outputs": []
    },
    {
      "cell_type": "code",
      "source": [
        "#are all variables int64?\n",
        "print(df.dtypes)\n",
        "print(df)\n"
      ],
      "metadata": {
        "colab": {
          "base_uri": "https://localhost:8080/"
        },
        "id": "q-Mv_cKOij1A",
        "outputId": "ef64d1c9-f3bc-4b27-c7c6-76445c7c025b"
      },
      "execution_count": 8,
      "outputs": [
        {
          "output_type": "stream",
          "name": "stdout",
          "text": [
            "Year                  int64\n",
            "Region_Hovedstaden    int64\n",
            "Region_Sjælland       int64\n",
            "Region_Syddanmark     int64\n",
            "Region_Midtjylland    int64\n",
            "Region_Nordjylland    int64\n",
            "dtype: object\n",
            "    Year  Region_Hovedstaden  Region_Sjælland  Region_Syddanmark  \\\n",
            "0   2008               23756             1354               3665   \n",
            "1   2009               24848             1241               3982   \n",
            "2   2010               24148             1578               3407   \n",
            "3   2011               24458             1536               3434   \n",
            "4   2012               25036             1447               3746   \n",
            "5   2013               24398             1266               4118   \n",
            "6   2014               25010              968               4260   \n",
            "7   2015               27020              972               4790   \n",
            "8   2016               29095             1073               4601   \n",
            "9   2017               27865             1615               3416   \n",
            "11  2019               28270             1539               4210   \n",
            "12  2020               29304             1481               4475   \n",
            "13  2021               30621             1634               4814   \n",
            "\n",
            "    Region_Midtjylland  Region_Nordjylland  \n",
            "0                 4322                 982  \n",
            "1                 5935                 708  \n",
            "2                 5617                 663  \n",
            "3                 6133                 726  \n",
            "4                 6018                 797  \n",
            "5                 5827                 699  \n",
            "6                 5808                 769  \n",
            "7                 5929                 776  \n",
            "8                 6404                1244  \n",
            "9                 6807                1054  \n",
            "11                6721                 831  \n",
            "12                6556                 678  \n",
            "13                6491                1041  \n"
          ]
        }
      ]
    },
    {
      "cell_type": "code",
      "source": [
        "#calculate percentage for each region per year\n",
        "grouped_df = df.groupby('Year')\n",
        "print(grouped_df)"
      ],
      "metadata": {
        "colab": {
          "base_uri": "https://localhost:8080/"
        },
        "id": "BETwGfUctnYW",
        "outputId": "59aa1e49-c229-478a-92e0-1947e77a19e6"
      },
      "execution_count": 9,
      "outputs": [
        {
          "output_type": "stream",
          "name": "stdout",
          "text": [
            "<pandas.core.groupby.generic.DataFrameGroupBy object at 0x7fa915d1ce80>\n"
          ]
        }
      ]
    },
    {
      "cell_type": "code",
      "source": [
        "# Calculate the percentage of RD for each region for each year\n",
        "percent_df = grouped_df.apply(lambda x: x.iloc[:,1:].div(x.iloc[:,1:].sum(axis=1), axis=0) * 100)\n",
        "\n",
        "# Plot the results\n",
        "#colors = ['brown', 'red', 'yellow', 'purple', 'blue']\n",
        "flavors = ['Region_Hovedstaden', 'Region_Sjælland', 'Region_Syddanmark', 'Region_Midtjylland', 'Region_Nordjylland']\n",
        "palette = 'plasma_r'\n",
        "colors = sns.color_palette(palette=palette, n_colors=len(flavors)).as_hex()\n",
        "\n",
        "for i, flavor in enumerate(flavors):\n",
        "    plt.plot(percent_df.index, percent_df[flavor], label=flavor, color=colors[i])\n",
        "\n",
        "plt.legend()\n",
        "plt.xlabel('Year')\n",
        "plt.ylabel('Percentage of RD')\n",
        "plt.title('Percentage of RD by Region')\n",
        "\n",
        "# Set the x-axis ticks and labels\n",
        "years = grouped_df['Year'].unique()\n",
        "\n",
        "# Convert the year labels to strings without square brackets\n",
        "year_labels = [str(year)[1:-1] for year in grouped_df['Year'].unique()]\n",
        "\n",
        "# Set the x-axis ticks and labels\n",
        "plt.xticks(range(len(year_labels)), year_labels, rotation=45)\n",
        "\n",
        "# Move the legend outside the plot\n",
        "plt.legend(bbox_to_anchor=(1.05, 1), loc='upper left')\n",
        "\n",
        "plt.show()\n"
      ],
      "metadata": {
        "id": "jUBbWfj8cdJ-",
        "colab": {
          "base_uri": "https://localhost:8080/",
          "height": 310
        },
        "outputId": "dd7d6e9c-847d-49e7-ed3e-8c52e0f55142"
      },
      "execution_count": 31,
      "outputs": [
        {
          "output_type": "display_data",
          "data": {
            "text/plain": [
              "<Figure size 432x288 with 1 Axes>"
            ],
            "image/png": "[encoded data removed]"
          },
          "metadata": {
            "needs_background": "light"
          }
        }
      ]
    },
    {
      "cell_type": "code",
      "source": [
        "import plotly.graph_objs as go\n",
        "import seaborn as sns\n",
        "\n",
        "# Calculate the percentage of RD for each region for each year\n",
        "percent_df = grouped_df.apply(lambda x: x.iloc[:,1:].div(x.iloc[:,1:].sum(axis=1), axis=0) * 100)\n",
        "\n",
        "# Create a stacked bar chart\n",
        "flavors = ['Region_Hovedstaden', 'Region_Sjælland', 'Region_Syddanmark', 'Region_Midtjylland', 'Region_Nordjylland']\n",
        "#colors = ['brown', 'red', 'yellow', 'green', 'blue']\n",
        "palette = 'plasma_r'\n",
        "colors = sns.color_palette(palette=palette, n_colors=len(flavors)).as_hex()\n",
        "\n",
        "\n",
        "data = []\n",
        "for i in range(len(flavors)):\n",
        "    trace = go.Bar(x=percent_df.index, y=percent_df[flavors[i]], name=flavors[i],\n",
        "                   marker=dict(color=colors[i]))\n",
        "    data.append(trace)\n",
        "\n",
        "layout = go.Layout(title='Percentage of RD by Region',\n",
        "                   barmode='stack',\n",
        "                   xaxis=dict(title='Year', tickmode='linear', dtick=1))\n",
        "fig = go.Figure(data=data, layout=layout)\n",
        "fig.show()"
      ],
      "metadata": {
        "id": "JzJoCT_h3Pp5",
        "colab": {
          "base_uri": "https://localhost:8080/",
          "height": 542
        },
        "outputId": "6daa5366-d187-4754-b244-ed15cd4761f6"
      },
      "execution_count": 32,
      "outputs": [
        {
          "output_type": "display_data",
          "data": {
            "text/html": [
              "<html>\n",
              "<head><meta charset=\"utf-8\" /></head>\n",
              "<body>\n",
              "    <div>            <script src=\"https://cdnjs.cloudflare.com/ajax/libs/mathjax/2.7.5/MathJax.js?config=TeX-AMS-MML_SVG\"></script><script type=\"text/javascript\">if (window.MathJax) {MathJax.Hub.Config({SVG: {font: \"STIX-Web\"}});}</script>                <script type=\"text/javascript\">window.PlotlyConfig = {MathJaxConfig: 'local'};</script>\n",
              "        <script src=\"https://cdn.plot.ly/plotly-2.8.3.min.js\"></script>                <div id=\"c61252e0-0981-44aa-82d6-b7b4c173df14\" class=\"plotly-graph-div\" style=\"height:525px; width:100%;\"></div>            <script type=\"text/javascript\">                                    window.PLOTLYENV=window.PLOTLYENV || {};                                    if (document.getElementById(\"c61252e0-0981-44aa-82d6-b7b4c173df14\")) {                    Plotly.newPlot(                        \"c61252e0-0981-44aa-82d6-b7b4c173df14\",                        [{\"marker\":{\"color\":\"#fdb42f\"},\"name\":\"Region_Hovedstaden\",\"x\":[0,1,2,3,4,5,6,7,8,9,11,12,13],\"y\":[69.70861821062825,67.6799041237675,68.18964786942648,67.40154876402016,67.58449411510637,67.1973118871874,67.93426592421568,68.42758376174437,68.5927811962185,68.36862379468558,68.00413749969931,68.9603238104203,68.65541131364768],\"type\":\"bar\"},{\"marker\":{\"color\":\"#ed7953\"},\"name\":\"Region_Sj\\u00e6lland\",\"x\":[0,1,2,3,4,5,6,7,8,9,11,12,13],\"y\":[3.973121277032777,3.3801819469412213,4.455990737864626,4.232920880756193,3.9061656408595185,3.486834857331717,2.6293630313730816,2.4615696305113075,2.529646132446896,3.9625095075692522,3.7021000216497075,3.485197910293218,3.663594986659492],\"type\":\"bar\"},{\"marker\":{\"color\":\"#cb4679\"},\"name\":\"Region_Syddanmark\",\"x\":[0,1,2,3,4,5,6,7,8,9,11,12,13],\"y\":[10.754423545291822,10.845998801547093,9.620760737582245,9.463444208669772,10.112298887809091,11.341853035143771,11.571370365340213,12.130574619495023,10.84706603484452,8.381382339230072,10.127252170984582,10.530898479785382,10.793479966816887],\"type\":\"bar\"},{\"marker\":{\"color\":\"#9c179e\"},\"name\":\"Region_Midtjylland\",\"x\":[0,1,2,3,4,5,6,7,8,9,11,12,13],\"y\":[12.682297015757504,16.16549545132647,15.861406828001018,16.901369636508942,16.245545837382572,16.048804671146854,15.776178188238491,15.015068250310229,15.097720253671875,16.70142552199622,16.167520627360418,15.428060432060997,14.553485347862155],\"type\":\"bar\"},{\"marker\":{\"color\":\"#5c01a6\"},\"name\":\"Region_Nordjylland\",\"x\":[0,1,2,3,4,5,6,7,8,9,11,12,13],\"y\":[2.8815399512896507,1.9284196764177153,1.872193827125632,2.00071651004492,2.1514955188424576,1.925195549190261,2.0888224908325412,1.9652037379390686,2.9327863828182097,2.5860588365188804,1.9989896803059828,1.5955193674401094,2.334028385013789],\"type\":\"bar\"}],                        {\"barmode\":\"stack\",\"title\":{\"text\":\"Percentage of RD by Region\"},\"xaxis\":{\"dtick\":1,\"tickmode\":\"linear\",\"title\":{\"text\":\"Year\"}},\"template\":{\"data\":{\"bar\":[{\"error_x\":{\"color\":\"#2a3f5f\"},\"error_y\":{\"color\":\"#2a3f5f\"},\"marker\":{\"line\":{\"color\":\"#E5ECF6\",\"width\":0.5},\"pattern\":{\"fillmode\":\"overlay\",\"size\":10,\"solidity\":0.2}},\"type\":\"bar\"}],\"barpolar\":[{\"marker\":{\"line\":{\"color\":\"#E5ECF6\",\"width\":0.5},\"pattern\":{\"fillmode\":\"overlay\",\"size\":10,\"solidity\":0.2}},\"type\":\"barpolar\"}],\"carpet\":[{\"aaxis\":{\"endlinecolor\":\"#2a3f5f\",\"gridcolor\":\"white\",\"linecolor\":\"white\",\"minorgridcolor\":\"white\",\"startlinecolor\":\"#2a3f5f\"},\"baxis\":{\"endlinecolor\":\"#2a3f5f\",\"gridcolor\":\"white\",\"linecolor\":\"white\",\"minorgridcolor\":\"white\",\"startlinecolor\":\"#2a3f5f\"},\"type\":\"carpet\"}],\"choropleth\":[{\"colorbar\":{\"outlinewidth\":0,\"ticks\":\"\"},\"type\":\"choropleth\"}],\"contour\":[{\"colorbar\":{\"outlinewidth\":0,\"ticks\":\"\"},\"colorscale\":[[0.0,\"#0d0887\"],[0.1111111111111111,\"#46039f\"],[0.2222222222222222,\"#7201a8\"],[0.3333333333333333,\"#9c179e\"],[0.4444444444444444,\"#bd3786\"],[0.5555555555555556,\"#d8576b\"],[0.6666666666666666,\"#ed7953\"],[0.7777777777777778,\"#fb9f3a\"],[0.8888888888888888,\"#fdca26\"],[1.0,\"#f0f921\"]],\"type\":\"contour\"}],\"contourcarpet\":[{\"colorbar\":{\"outlinewidth\":0,\"ticks\":\"\"},\"type\":\"contourcarpet\"}],\"heatmap\":[{\"colorbar\":{\"outlinewidth\":0,\"ticks\":\"\"},\"colorscale\":[[0.0,\"#0d0887\"],[0.1111111111111111,\"#46039f\"],[0.2222222222222222,\"#7201a8\"],[0.3333333333333333,\"#9c179e\"],[0.4444444444444444,\"#bd3786\"],[0.5555555555555556,\"#d8576b\"],[0.6666666666666666,\"#ed7953\"],[0.7777777777777778,\"#fb9f3a\"],[0.8888888888888888,\"#fdca26\"],[1.0,\"#f0f921\"]],\"type\":\"heatmap\"}],\"heatmapgl\":[{\"colorbar\":{\"outlinewidth\":0,\"ticks\":\"\"},\"colorscale\":[[0.0,\"#0d0887\"],[0.1111111111111111,\"#46039f\"],[0.2222222222222222,\"#7201a8\"],[0.3333333333333333,\"#9c179e\"],[0.4444444444444444,\"#bd3786\"],[0.5555555555555556,\"#d8576b\"],[0.6666666666666666,\"#ed7953\"],[0.7777777777777778,\"#fb9f3a\"],[0.8888888888888888,\"#fdca26\"],[1.0,\"#f0f921\"]],\"type\":\"heatmapgl\"}],\"histogram\":[{\"marker\":{\"pattern\":{\"fillmode\":\"overlay\",\"size\":10,\"solidity\":0.2}},\"type\":\"histogram\"}],\"histogram2d\":[{\"colorbar\":{\"outlinewidth\":0,\"ticks\":\"\"},\"colorscale\":[[0.0,\"#0d0887\"],[0.1111111111111111,\"#46039f\"],[0.2222222222222222,\"#7201a8\"],[0.3333333333333333,\"#9c179e\"],[0.4444444444444444,\"#bd3786\"],[0.5555555555555556,\"#d8576b\"],[0.6666666666666666,\"#ed7953\"],[0.7777777777777778,\"#fb9f3a\"],[0.8888888888888888,\"#fdca26\"],[1.0,\"#f0f921\"]],\"type\":\"histogram2d\"}],\"histogram2dcontour\":[{\"colorbar\":{\"outlinewidth\":0,\"ticks\":\"\"},\"colorscale\":[[0.0,\"#0d0887\"],[0.1111111111111111,\"#46039f\"],[0.2222222222222222,\"#7201a8\"],[0.3333333333333333,\"#9c179e\"],[0.4444444444444444,\"#bd3786\"],[0.5555555555555556,\"#d8576b\"],[0.6666666666666666,\"#ed7953\"],[0.7777777777777778,\"#fb9f3a\"],[0.8888888888888888,\"#fdca26\"],[1.0,\"#f0f921\"]],\"type\":\"histogram2dcontour\"}],\"mesh3d\":[{\"colorbar\":{\"outlinewidth\":0,\"ticks\":\"\"},\"type\":\"mesh3d\"}],\"parcoords\":[{\"line\":{\"colorbar\":{\"outlinewidth\":0,\"ticks\":\"\"}},\"type\":\"parcoords\"}],\"pie\":[{\"automargin\":true,\"type\":\"pie\"}],\"scatter\":[{\"marker\":{\"colorbar\":{\"outlinewidth\":0,\"ticks\":\"\"}},\"type\":\"scatter\"}],\"scatter3d\":[{\"line\":{\"colorbar\":{\"outlinewidth\":0,\"ticks\":\"\"}},\"marker\":{\"colorbar\":{\"outlinewidth\":0,\"ticks\":\"\"}},\"type\":\"scatter3d\"}],\"scattercarpet\":[{\"marker\":{\"colorbar\":{\"outlinewidth\":0,\"ticks\":\"\"}},\"type\":\"scattercarpet\"}],\"scattergeo\":[{\"marker\":{\"colorbar\":{\"outlinewidth\":0,\"ticks\":\"\"}},\"type\":\"scattergeo\"}],\"scattergl\":[{\"marker\":{\"colorbar\":{\"outlinewidth\":0,\"ticks\":\"\"}},\"type\":\"scattergl\"}],\"scattermapbox\":[{\"marker\":{\"colorbar\":{\"outlinewidth\":0,\"ticks\":\"\"}},\"type\":\"scattermapbox\"}],\"scatterpolar\":[{\"marker\":{\"colorbar\":{\"outlinewidth\":0,\"ticks\":\"\"}},\"type\":\"scatterpolar\"}],\"scatterpolargl\":[{\"marker\":{\"colorbar\":{\"outlinewidth\":0,\"ticks\":\"\"}},\"type\":\"scatterpolargl\"}],\"scatterternary\":[{\"marker\":{\"colorbar\":{\"outlinewidth\":0,\"ticks\":\"\"}},\"type\":\"scatterternary\"}],\"surface\":[{\"colorbar\":{\"outlinewidth\":0,\"ticks\":\"\"},\"colorscale\":[[0.0,\"#0d0887\"],[0.1111111111111111,\"#46039f\"],[0.2222222222222222,\"#7201a8\"],[0.3333333333333333,\"#9c179e\"],[0.4444444444444444,\"#bd3786\"],[0.5555555555555556,\"#d8576b\"],[0.6666666666666666,\"#ed7953\"],[0.7777777777777778,\"#fb9f3a\"],[0.8888888888888888,\"#fdca26\"],[1.0,\"#f0f921\"]],\"type\":\"surface\"}],\"table\":[{\"cells\":{\"fill\":{\"color\":\"#EBF0F8\"},\"line\":{\"color\":\"white\"}},\"header\":{\"fill\":{\"color\":\"#C8D4E3\"},\"line\":{\"color\":\"white\"}},\"type\":\"table\"}]},\"layout\":{\"annotationdefaults\":{\"arrowcolor\":\"#2a3f5f\",\"arrowhead\":0,\"arrowwidth\":1},\"autotypenumbers\":\"strict\",\"coloraxis\":{\"colorbar\":{\"outlinewidth\":0,\"ticks\":\"\"}},\"colorscale\":{\"diverging\":[[0,\"#8e0152\"],[0.1,\"#c51b7d\"],[0.2,\"#de77ae\"],[0.3,\"#f1b6da\"],[0.4,\"#fde0ef\"],[0.5,\"#f7f7f7\"],[0.6,\"#e6f5d0\"],[0.7,\"#b8e186\"],[0.8,\"#7fbc41\"],[0.9,\"#4d9221\"],[1,\"#276419\"]],\"sequential\":[[0.0,\"#0d0887\"],[0.1111111111111111,\"#46039f\"],[0.2222222222222222,\"#7201a8\"],[0.3333333333333333,\"#9c179e\"],[0.4444444444444444,\"#bd3786\"],[0.5555555555555556,\"#d8576b\"],[0.6666666666666666,\"#ed7953\"],[0.7777777777777778,\"#fb9f3a\"],[0.8888888888888888,\"#fdca26\"],[1.0,\"#f0f921\"]],\"sequentialminus\":[[0.0,\"#0d0887\"],[0.1111111111111111,\"#46039f\"],[0.2222222222222222,\"#7201a8\"],[0.3333333333333333,\"#9c179e\"],[0.4444444444444444,\"#bd3786\"],[0.5555555555555556,\"#d8576b\"],[0.6666666666666666,\"#ed7953\"],[0.7777777777777778,\"#fb9f3a\"],[0.8888888888888888,\"#fdca26\"],[1.0,\"#f0f921\"]]},\"colorway\":[\"#636efa\",\"#EF553B\",\"#00cc96\",\"#ab63fa\",\"#FFA15A\",\"#19d3f3\",\"#FF6692\",\"#B6E880\",\"#FF97FF\",\"#FECB52\"],\"font\":{\"color\":\"#2a3f5f\"},\"geo\":{\"bgcolor\":\"white\",\"lakecolor\":\"white\",\"landcolor\":\"#E5ECF6\",\"showlakes\":true,\"showland\":true,\"subunitcolor\":\"white\"},\"hoverlabel\":{\"align\":\"left\"},\"hovermode\":\"closest\",\"mapbox\":{\"style\":\"light\"},\"paper_bgcolor\":\"white\",\"plot_bgcolor\":\"#E5ECF6\",\"polar\":{\"angularaxis\":{\"gridcolor\":\"white\",\"linecolor\":\"white\",\"ticks\":\"\"},\"bgcolor\":\"#E5ECF6\",\"radialaxis\":{\"gridcolor\":\"white\",\"linecolor\":\"white\",\"ticks\":\"\"}},\"scene\":{\"xaxis\":{\"backgroundcolor\":\"#E5ECF6\",\"gridcolor\":\"white\",\"gridwidth\":2,\"linecolor\":\"white\",\"showbackground\":true,\"ticks\":\"\",\"zerolinecolor\":\"white\"},\"yaxis\":{\"backgroundcolor\":\"#E5ECF6\",\"gridcolor\":\"white\",\"gridwidth\":2,\"linecolor\":\"white\",\"showbackground\":true,\"ticks\":\"\",\"zerolinecolor\":\"white\"},\"zaxis\":{\"backgroundcolor\":\"#E5ECF6\",\"gridcolor\":\"white\",\"gridwidth\":2,\"linecolor\":\"white\",\"showbackground\":true,\"ticks\":\"\",\"zerolinecolor\":\"white\"}},\"shapedefaults\":{\"line\":{\"color\":\"#2a3f5f\"}},\"ternary\":{\"aaxis\":{\"gridcolor\":\"white\",\"linecolor\":\"white\",\"ticks\":\"\"},\"baxis\":{\"gridcolor\":\"white\",\"linecolor\":\"white\",\"ticks\":\"\"},\"bgcolor\":\"#E5ECF6\",\"caxis\":{\"gridcolor\":\"white\",\"linecolor\":\"white\",\"ticks\":\"\"}},\"title\":{\"x\":0.05},\"xaxis\":{\"automargin\":true,\"gridcolor\":\"white\",\"linecolor\":\"white\",\"ticks\":\"\",\"title\":{\"standoff\":15},\"zerolinecolor\":\"white\",\"zerolinewidth\":2},\"yaxis\":{\"automargin\":true,\"gridcolor\":\"white\",\"linecolor\":\"white\",\"ticks\":\"\",\"title\":{\"standoff\":15},\"zerolinecolor\":\"white\",\"zerolinewidth\":2}}}},                        {\"responsive\": true}                    ).then(function(){\n",
              "                            \n",
              "var gd = document.getElementById('c61252e0-0981-44aa-82d6-b7b4c173df14');\n",
              "var x = new MutationObserver(function (mutations, observer) {{\n",
              "        var display = window.getComputedStyle(gd).display;\n",
              "        if (!display || display === 'none') {{\n",
              "            console.log([gd, 'removed!']);\n",
              "            Plotly.purge(gd);\n",
              "            observer.disconnect();\n",
              "        }}\n",
              "}});\n",
              "\n",
              "// Listen for the removal of the full notebook cells\n",
              "var notebookContainer = gd.closest('#notebook-container');\n",
              "if (notebookContainer) {{\n",
              "    x.observe(notebookContainer, {childList: true});\n",
              "}}\n",
              "\n",
              "// Listen for the clearing of the current output cell\n",
              "var outputEl = gd.closest('.output');\n",
              "if (outputEl) {{\n",
              "    x.observe(outputEl, {childList: true});\n",
              "}}\n",
              "\n",
              "                        })                };                            </script>        </div>\n",
              "</body>\n",
              "</html>"
            ]
          },
          "metadata": {}
        }
      ]
    },
    {
      "cell_type": "markdown",
      "source": [
        "Nyt datasæt for Europa\n",
        "\n",
        "Hvor stor en percentdel af RD kommer fra industrien i hvert land relativ til andre interne 'contributers'?"
      ],
      "metadata": {
        "id": "bkgey3hgvWhu"
      }
    },
    {
      "cell_type": "code",
      "source": [
        "#Read data from the cloud\n",
        "data2 = pd.read_csv('https://raw.githubusercontent.com/louisehviid/RD_data/main/Data/Gross_domestic_RnD.csv')"
      ],
      "metadata": {
        "id": "GqVh3fc5tw6s"
      },
      "execution_count": null,
      "outputs": []
    }
  ]
}